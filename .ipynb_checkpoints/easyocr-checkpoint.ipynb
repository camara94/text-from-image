{
 "cells": [
  {
   "cell_type": "code",
   "execution_count": 1,
   "id": "74efba70-ed8c-48eb-87d2-aea35f460817",
   "metadata": {},
   "outputs": [],
   "source": [
    "# !pip install easyocr\n",
    "# !pip uninstall opencv-python-headless\n",
    "# !pip install opencv-python-headless==4.1.2.30"
   ]
  },
  {
   "cell_type": "code",
   "execution_count": null,
   "id": "0f5407d0-7995-407b-8878-90dee495f00e",
   "metadata": {},
   "outputs": [],
   "source": [
    "import matplotlib.pyplot as plt\n",
    "import easyocr\n",
    "from pylab import rcParams\n",
    "rcParams['figure.size'] = 10, 9"
   ]
  },
  {
   "cell_type": "code",
   "execution_count": null,
   "id": "5c783bf6-4965-4fef-8240-de1e1b15b6f6",
   "metadata": {},
   "outputs": [],
   "source": [
    "url_image = 'labydamaro.camara.png'"
   ]
  }
 ],
 "metadata": {
  "kernelspec": {
   "display_name": "Python 3",
   "language": "python",
   "name": "python3"
  },
  "language_info": {
   "codemirror_mode": {
    "name": "ipython",
    "version": 3
   },
   "file_extension": ".py",
   "mimetype": "text/x-python",
   "name": "python",
   "nbconvert_exporter": "python",
   "pygments_lexer": "ipython3",
   "version": "3.8.5"
  }
 },
 "nbformat": 4,
 "nbformat_minor": 5
}
